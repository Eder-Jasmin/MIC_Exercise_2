{
 "cells": [
  {
   "cell_type": "code",
   "execution_count": 14,
   "id": "3d6e7558",
   "metadata": {},
   "outputs": [],
   "source": [
    "import cv2\n",
    "import numpy as np\n",
    "from matplotlib import pyplot as plt"
   ]
  },
  {
   "cell_type": "markdown",
   "id": "fcf4960a",
   "metadata": {},
   "source": [
    "# Medical Image Computing - Exercise 2\n",
    "\n",
    "Jasmin Eder, Dorothea Mauracher, Sonja Pappenberger"
   ]
  },
  {
   "cell_type": "markdown",
   "id": "2ea8fb8f",
   "metadata": {},
   "source": [
    "## OCT image preprocessing framework \n",
    "#### 2.1 Load the OCT image (“OCTimage_raw.tif”) and investigate the image by analyzing the histogram. Show the histogram and discuss it.  "
   ]
  }
 ],
 "metadata": {
  "kernelspec": {
   "display_name": "Python 3 (ipykernel)",
   "language": "python",
   "name": "python3"
  },
  "language_info": {
   "codemirror_mode": {
    "name": "ipython",
    "version": 3
   },
   "file_extension": ".py",
   "mimetype": "text/x-python",
   "name": "python",
   "nbconvert_exporter": "python",
   "pygments_lexer": "ipython3",
   "version": "3.9.18"
  }
 },
 "nbformat": 4,
 "nbformat_minor": 5
}
